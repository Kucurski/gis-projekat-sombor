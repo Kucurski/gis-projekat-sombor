{
 "cells": [
  {
   "cell_type": "markdown",
   "metadata": {},
   "source": [
    "# Definisanje ulaznih podataka (Inputi)"
   ]
  },
  {
   "cell_type": "markdown",
   "metadata": {
    "jp-MarkdownHeadingCollapsed": true
   },
   "source": [
    "## 1. Uvoz biblioteka i definisanje putanja\n",
    "\n",
    "U ovoj sekciji se uvozi arcpy biblioteka i definišu se sve ulazne i izlazne putanje kako bi kod bio pregledan i lako promenljiv."
   ]
  },
  {
   "cell_type": "code",
   "execution_count": 60,
   "metadata": {},
   "outputs": [],
   "source": [
    "import arcpy\n",
    "import os"
   ]
  },
  {
   "cell_type": "code",
   "execution_count": 61,
   "metadata": {},
   "outputs": [],
   "source": [
    "# Putanja do geobaze projekta\n",
    "putanja_do_baze = r\"C:\\\\Users\\\\LENOVO\\\\Desktop\\\\FAKS\\\\IV GODINA\\\\NMPOP\\\\Sombor_objekti\""
   ]
  },
  {
   "cell_type": "code",
   "execution_count": 62,
   "metadata": {},
   "outputs": [],
   "source": [
    "# Putanja do shapefile-a opštine Sombor \n",
    "opstina_sombor_shp = r\"C:\\Users\\LENOVO\\Desktop\\FAKS\\IV GODINA\\NMPOP\\Sombor_objekti\\Opština\\Op_tina.shp\""
   ]
  },
  {
   "cell_type": "code",
   "execution_count": 63,
   "metadata": {},
   "outputs": [],
   "source": [
    "# Putanja do shapefile-a naselja Srbije \n",
    "naselja_srbije_shp = r\"C:\\\\Users\\\\LENOVO\\\\Desktop\\\\FAKS\\\\IV GODINA\\\\NMPOP\\\\Sombor_objekti\\\\Naselja\\\\Naseljeno mesto.shp\""
   ]
  },
  {
   "cell_type": "code",
   "execution_count": 64,
   "metadata": {},
   "outputs": [],
   "source": [
    "# Folder gde su ekstraktovani OSM podaci sa Geofabrika\n",
    "osm_folder = r\"C:\\\\Users\\\\LENOVO\\\\Desktop\\\\FAKS\\\\IV GODINA\\\\NMPOP\\\\Sombor_objekti\\\\gisSrbija\""
   ]
  },
  {
   "cell_type": "code",
   "execution_count": 65,
   "metadata": {},
   "outputs": [],
   "source": [
    "# Matični broj opštine Sombor \n",
    "maticni_broj_opstine_sombor = \"80381\" "
   ]
  },
  {
   "cell_type": "code",
   "execution_count": 66,
   "metadata": {},
   "outputs": [],
   "source": [
    "# Podešavanje radnog okruženja\n",
    "arcpy.env.workspace = putanja_do_baze\n",
    "arcpy.env.overwriteOutput = True"
   ]
  },
  {
   "cell_type": "code",
   "execution_count": 67,
   "metadata": {},
   "outputs": [
    {
     "name": "stdout",
     "output_type": "stream",
     "text": [
      "Putanja do baze: C:\\\\Users\\\\LENOVO\\\\Desktop\\\\FAKS\\\\IV GODINA\\\\NMPOP\\\\Sombor_objekti\n",
      "Spremno za rad.\n"
     ]
    }
   ],
   "source": [
    "print(\"Putanja do baze:\", putanja_do_baze)\n",
    "print(\"Spremno za rad.\")"
   ]
  },
  {
   "cell_type": "markdown",
   "metadata": {},
   "source": [
    "# Izdvajanje istraživanog područja (Opština i naselja)"
   ]
  },
  {
   "cell_type": "markdown",
   "metadata": {},
   "source": [
    "## 2. Izdvajanje istraživanog područja\n",
    "\n",
    "Koristimo alat Select da izdvojimo poligon opštine Sombor i Select Layer By Location da pronađemo sva naselja na njenoj teritoriji."
   ]
  },
  {
   "cell_type": "code",
   "execution_count": 68,
   "metadata": {},
   "outputs": [
    {
     "name": "stdout",
     "output_type": "stream",
     "text": [
      "Feature class 'Opstina_Sombor' je kreiran.\n"
     ]
    }
   ],
   "source": [
    "# Izdvajanje opštine Sombor\n",
    "where_clause_opstina = f\"grad_matic = {maticni_broj_opstine_sombor}\" \n",
    "arcpy.analysis.Select(opstina_sombor_shp, \"Opstina_Sombor\", where_clause_opstina)\n",
    "print(\"Feature class 'Opstina_Sombor' je kreiran.\")"
   ]
  },
  {
   "cell_type": "code",
   "execution_count": 69,
   "metadata": {},
   "outputs": [
    {
     "data": {
      "text/html": [
       "<div class='gpresult'><h2 class='msg-title'>Messages</h2><div id='messages'>Start Time: Sunday, August 17, 2025 10:30:23 PM<br>Succeeded at Sunday, August 17, 2025 10:30:23 PM (Elapsed Time: 0.39 seconds)<br></div><div id = 'default' /></div></div>"
      ],
      "text/plain": [
       "<Result 'Opstina_Sombor_Layer'>"
      ]
     },
     "execution_count": 69,
     "metadata": {},
     "output_type": "execute_result"
    }
   ],
   "source": [
    "# Izdvajanje naselja koja pripadaju opštini Sombor\n",
    "# Prvo učitavamo lejer opštine i naselja\n",
    "arcpy.management.MakeFeatureLayer(naselja_srbije_shp, \"Naselja_Srbije_Layer\")\n",
    "arcpy.management.MakeFeatureLayer(\"Opstina_Sombor\", \"Opstina_Sombor_Layer\")"
   ]
  },
  {
   "cell_type": "code",
   "execution_count": 70,
   "metadata": {},
   "outputs": [
    {
     "data": {
      "text/html": [
       "<div class='gpresult'><h2 class='msg-title'>Messages</h2><div id='messages'>Start Time: Sunday, August 17, 2025 10:31:11 PM<br>Succeeded at Sunday, August 17, 2025 10:31:11 PM (Elapsed Time: 0.10 seconds)<br></div><div id = 'default' /></div></div>"
      ],
      "text/plain": [
       "<Result 'Naselja_Srbije_Layer'>"
      ]
     },
     "execution_count": 70,
     "metadata": {},
     "output_type": "execute_result"
    }
   ],
   "source": [
    "# Selekcija naselja koja se preklapaju sa opštinom\n",
    "arcpy.management.SelectLayerByLocation(\"Naselja_Srbije_Layer\", \"HAVE_THEIR_CENTER_IN\", \"Opstina_Sombor_Layer\")"
   ]
  },
  {
   "cell_type": "code",
   "execution_count": 71,
   "metadata": {},
   "outputs": [
    {
     "name": "stdout",
     "output_type": "stream",
     "text": [
      "Feature class 'Naselja_Sombora' sa svim naseljima opštine je kreiran.\n"
     ]
    }
   ],
   "source": [
    "# Čuvanje selektovanih naselja u novi feature class-u\n",
    "arcpy.management.CopyFeatures(\"Naselja_Srbije_Layer\", \"Naselja_Sombora\")\n",
    "print(\"Feature class 'Naselja_Sombora' sa svim naseljima opštine je kreiran.\")"
   ]
  },
  {
   "cell_type": "markdown",
   "metadata": {},
   "source": [
    "# Isecanje (Clip) OSM podataka i prevođenje"
   ]
  },
  {
   "cell_type": "markdown",
   "metadata": {},
   "source": [
    "## 3. Isecanje i obrada OSM podataka\n",
    "\n",
    "Svi relevantni OSM podaci (objekti, putevi) se isecaju prema granicama opštine Sombor. Nakon toga, dodajemo novu kolonu sa nazivima tipova objekata na srpskom jeziku."
   ]
  },
  {
   "cell_type": "code",
   "execution_count": 72,
   "metadata": {},
   "outputs": [
    {
     "name": "stdout",
     "output_type": "stream",
     "text": [
      "OSM objekti isečeni na teritoriju Sombora.\n"
     ]
    }
   ],
   "source": [
    "# Primer za tačkaste objekte (Points of Interest)\n",
    "# Putanja do OSM tačkastih objekata\n",
    "osm_poi_shp = os.path.join(osm_folder, r\"C:\\Users\\LENOVO\\Desktop\\FAKS\\IV GODINA\\NMPOP\\Sombor_objekti\\gisSrbija\\gis_osm_pois_free_1.shp\") \n",
    "\n",
    "# Isecanje (Clip)\n",
    "arcpy.analysis.Clip(osm_poi_shp, \"Opstina_Sombor\", \"Objekti_Sombor_OSM\")\n",
    "print(\"OSM objekti isečeni na teritoriju Sombora.\")"
   ]
  },
  {
   "cell_type": "code",
   "execution_count": 73,
   "metadata": {},
   "outputs": [
    {
     "name": "stdout",
     "output_type": "stream",
     "text": [
      "Izdvojeni su samo relevantni javni objekti.\n"
     ]
    }
   ],
   "source": [
    "# Filtriranje samo relevantnih objekata i prevod \n",
    "# Definišemo koje klase nas zanimaju\n",
    "interesantni_objekti_fclass = [\n",
    "    'hospital', 'clinic', 'doctors', 'pharmacy', # Zdravstvo\n",
    "    'school', 'kindergarten', 'university', 'college', # Obrazovanje\n",
    "    'post_office', # Pošta\n",
    "    'bank', # Banka\n",
    "    'police', 'courthouse', 'townhall' # Javne institucije\n",
    "]\n",
    "\n",
    "# Pravimo SQL upit za selekciju\n",
    "where_clause_objekti = \"fclass IN ('\" + \"', '\".join(interesantni_objekti_fclass) + \"')\"\n",
    "\n",
    "\n",
    "# Selektujemo samo te objekte\n",
    "arcpy.analysis.Select(\"Objekti_Sombor_OSM\", \"Javni_Objekti_Sombor\", where_clause_objekti)\n",
    "print(\"Izdvojeni su samo relevantni javni objekti.\")"
   ]
  },
  {
   "cell_type": "code",
   "execution_count": 74,
   "metadata": {},
   "outputs": [
    {
     "name": "stdout",
     "output_type": "stream",
     "text": [
      "Kolona 'Tip_Obj' je popunjena srpskim nazivima.\n",
      "Dodate su X i Y koordinate za svaki objekat.\n"
     ]
    }
   ],
   "source": [
    "# Dodavanje kolone i prevod na srpski\n",
    "# Dodajemo novo polje \"Tip_Objekta\"\n",
    "arcpy.management.AddField(\"Javni_Objekti_Sombor\", \"Tip_Obj\", \"TEXT\", field_length=50)\n",
    "\n",
    "# Definišemo funkciju za prevod\n",
    "# Ovo je Python kod koji se izvršava unutar Calculate Field alata\n",
    "kod_za_prevod = \"\"\"\n",
    "def prevedi_tip(fclass):\n",
    "    mapa_prevoda = {\n",
    "        'hospital': 'Bolnica', 'clinic': 'Klinika', 'doctors': 'Ambulanta', 'pharmacy': 'Apoteka',\n",
    "        'school': 'Škola', 'kindergarten': 'Vrtić', 'university': 'Fakultet', 'college': 'Viša škola',\n",
    "        'post_office': 'Pošta',\n",
    "        'bank': 'Banka',\n",
    "        'police': 'Policija', 'courthouse': 'Sud', 'townhall': 'Opština/Gradska kuća'\n",
    "    }\n",
    "    return mapa_prevoda.get(fclass, 'Ostalo')\n",
    "\"\"\"\n",
    "\n",
    "# Pokrećemo Calculate Field\n",
    "arcpy.management.CalculateField(\"Javni_Objekti_Sombor\", \"Tip_Obj\", \"prevedi_tip(!fclass!)\", \"PYTHON3\", kod_za_prevod)\n",
    "print(\"Kolona 'Tip_Obj' je popunjena srpskim nazivima.\")\n",
    "\n",
    "# Dodavanje i računanje geometrije (X i Y koordinate)\n",
    "arcpy.management.AddXY(\"Javni_Objekti_Sombor\")\n",
    "print(\"Dodate su X i Y koordinate za svaki objekat.\")"
   ]
  },
  {
   "cell_type": "markdown",
   "metadata": {},
   "source": [
    "# Analiza - Pronalaženje najbližeg objekta"
   ]
  },
  {
   "cell_type": "markdown",
   "metadata": {},
   "source": [
    "## 4. Analiza: Udaljenost naselja do najbližeg objekta\n",
    "\n",
    "Za svaki tip objekta (npr. pošta), prvo identifikujemo naselja koja ga nemaju. Zatim, za ta naselja, koristimo alat Near da izračunamo udaljenost do najbliže pošte."
   ]
  },
  {
   "cell_type": "code",
   "execution_count": 75,
   "metadata": {},
   "outputs": [
    {
     "name": "stdout",
     "output_type": "stream",
     "text": [
      "Pronađeni tipovi objekata za analizu: ['Policija', 'Bolnica', 'Škola', 'Banka', 'Pošta', 'Apoteka']\n",
      "\n",
      "--- Početak analize dostupnosti za sve tipove objekata ---\n",
      "\n",
      ">>> Započinjem obradu za tip: 'Policija'\n",
      "  - Izdvojeni su objekti tipa 'Policija'.\n",
      "  - Pronađena su naselja bez objekta tipa 'Policija'.\n",
      "  - Izračunata je udaljenost (NEAR_DIST i NEAR_FID).\n",
      "  - Dodata je kolona 'NajblLok' sa nazivom najbliže lokacije.\n",
      "\n",
      ">>> Započinjem obradu za tip: 'Bolnica'\n",
      "  - Izdvojeni su objekti tipa 'Bolnica'.\n",
      "  - Pronađena su naselja bez objekta tipa 'Bolnica'.\n",
      "  - Izračunata je udaljenost (NEAR_DIST i NEAR_FID).\n",
      "  - Dodata je kolona 'NajblLok' sa nazivom najbliže lokacije.\n",
      "\n",
      ">>> Započinjem obradu za tip: 'Škola'\n",
      "  - Izdvojeni su objekti tipa 'Škola'.\n",
      "  - Pronađena su naselja bez objekta tipa 'Škola'.\n",
      "  - Izračunata je udaljenost (NEAR_DIST i NEAR_FID).\n",
      "  - Dodata je kolona 'NajblLok' sa nazivom najbliže lokacije.\n",
      "\n",
      ">>> Započinjem obradu za tip: 'Banka'\n",
      "  - Izdvojeni su objekti tipa 'Banka'.\n",
      "  - Pronađena su naselja bez objekta tipa 'Banka'.\n",
      "  - Izračunata je udaljenost (NEAR_DIST i NEAR_FID).\n",
      "  - Dodata je kolona 'NajblLok' sa nazivom najbliže lokacije.\n",
      "\n",
      ">>> Započinjem obradu za tip: 'Pošta'\n",
      "  - Izdvojeni su objekti tipa 'Pošta'.\n",
      "  - Pronađena su naselja bez objekta tipa 'Pošta'.\n",
      "  - Izračunata je udaljenost (NEAR_DIST i NEAR_FID).\n",
      "  - Dodata je kolona 'NajblLok' sa nazivom najbliže lokacije.\n",
      "\n",
      ">>> Započinjem obradu za tip: 'Apoteka'\n",
      "  - Izdvojeni su objekti tipa 'Apoteka'.\n",
      "  - Pronađena su naselja bez objekta tipa 'Apoteka'.\n",
      "  - Izračunata je udaljenost (NEAR_DIST i NEAR_FID).\n",
      "  - Dodata je kolona 'NajblLok' sa nazivom najbliže lokacije.\n",
      "\n",
      "--- Analiza je završena za sve tipove objekata! ---\n"
     ]
    }
   ],
   "source": [
    "import arcpy\n",
    "import re\n",
    "\n",
    "# KORAK 1: Automatsko pronalaženje svih jedinstvenih tipova objekata\n",
    "# Koristimo kursor da pročitamo sve vrednosti iz kolone 'Tip_Obj'\n",
    "\n",
    "svi_tipovi_objekata = set()\n",
    "with arcpy.da.SearchCursor(\"Javni_Objekti_Sombor\", [\"Tip_Obj\"]) as cursor:\n",
    "    for row in cursor:\n",
    "        svi_tipovi_objekata.add(row[0])\n",
    "\n",
    "lista_tipova = list(svi_tipovi_objekata)\n",
    "print(f\"Pronađeni tipovi objekata za analizu: {lista_tipova}\")\n",
    "\n",
    "\n",
    "# KORAK 2: Petlja koja radi analizu za svaki tip objekta\n",
    "arcpy.management.MakeFeatureLayer(\"Naselja_Sombora\", \"Naselja_Sombora_Layer\")\n",
    "print(\"\\n--- Početak analize dostupnosti za sve tipove objekata ---\")\n",
    "\n",
    "naziv_kolone_u_naseljima = \"naselje__1\" \n",
    "\n",
    "for tip_objekta in lista_tipova:\n",
    "    print(f\"\\n>>> Započinjem obradu za tip: '{tip_objekta}'\")\n",
    "\n",
    "    cisti_naziv_tipa = re.sub(r'[^a-zA-Z0-9]', '_', tip_objekta)\n",
    "    objekti_trenutnog_tipa = f\"Objekti_{cisti_naziv_tipa}\"\n",
    "    naselja_sa_objektom_join = f\"Naselja_Sa_{cisti_naziv_tipa}_Join\"\n",
    "    naselja_bez_objekta = f\"Naselja_Bez_{cisti_naziv_tipa}\"\n",
    "\n",
    "    # 1. Izdvajanje objekata trenutnog tipa\n",
    "    sql_upit = f\"Tip_Obj = '{tip_objekta}'\"\n",
    "    arcpy.analysis.Select(\"Javni_Objekti_Sombor\", objekti_trenutnog_tipa, sql_upit)\n",
    "    print(f\"  - Izdvojeni su objekti tipa '{tip_objekta}'.\")\n",
    "\n",
    "    # 2. Pronalaženje naselja BEZ objekta\n",
    "    arcpy.analysis.SpatialJoin(\"Naselja_Sombora_Layer\", objekti_trenutnog_tipa, naselja_sa_objektom_join, \"JOIN_ONE_TO_ONE\", \"KEEP_ALL\", match_option=\"INTERSECT\")\n",
    "    arcpy.analysis.Select(naselja_sa_objektom_join, naselja_bez_objekta, \"Join_Count = 0\")\n",
    "    print(f\"  - Pronađena su naselja bez objekta tipa '{tip_objekta}'.\")\n",
    "\n",
    "    # 3. Izračunavanje udaljenosti\n",
    "    arcpy.analysis.Near(naselja_bez_objekta, objekti_trenutnog_tipa)\n",
    "    print(f\"  - Izračunata je udaljenost (NEAR_DIST i NEAR_FID).\")\n",
    "\n",
    "    # DODAVANJE IMENA NAJBLIŽE LOKACIJE\n",
    "    # 4. \"Obogaćujemo\" tačke objekata nazivima naselja\n",
    "    objekti_sa_lokacijom = f\"{objekti_trenutnog_tipa}_lokacija\"\n",
    "    arcpy.analysis.SpatialJoin(objekti_trenutnog_tipa, \"Naselja_Sombora_Layer\", objekti_sa_lokacijom)\n",
    "\n",
    "    # 5. Kreiramo Python rečnik (dictionary)\n",
    "    fid_to_name_map = {}\n",
    "    with arcpy.da.SearchCursor(objekti_sa_lokacijom, [\"TARGET_FID\", naziv_kolone_u_naseljima]) as cursor:\n",
    "        for row in cursor:\n",
    "            fid_to_name_map[row[0]] = row[1]\n",
    "\n",
    "    # 6. Dodajemo novo polje za naziv lokacije i popunjavamo ga\n",
    "    novo_polje_lokacija = \"NajblLok\" \n",
    "    arcpy.management.AddField(naselja_bez_objekta, novo_polje_lokacija, \"TEXT\", field_length=50)\n",
    "    \n",
    "    with arcpy.da.UpdateCursor(naselja_bez_objekta, [\"NEAR_FID\", novo_polje_lokacija]) as cursor:\n",
    "        for row in cursor:\n",
    "            nearest_fid = row[0]\n",
    "            location_name = fid_to_name_map.get(nearest_fid, \"N/A\")\n",
    "            row[1] = location_name\n",
    "            cursor.updateRow(row)\n",
    "            \n",
    "    print(f\"  - Dodata je kolona '{novo_polje_lokacija}' sa nazivom najbliže lokacije.\")\n",
    "    \n",
    "    # Brisanje privremenog lejera\n",
    "    arcpy.management.Delete(objekti_sa_lokacijom)\n",
    "\n",
    "print(\"\\n--- Analiza je završena za sve tipove objekata! ---\")"
   ]
  },
  {
   "cell_type": "markdown",
   "metadata": {
    "jp-MarkdownHeadingCollapsed": true
   },
   "source": [
    "# IZRAČUNAVANJE BROJA OPJEKATA PO NASELJIMA"
   ]
  },
  {
   "cell_type": "markdown",
   "metadata": {},
   "source": [
    "## 5.Dodavanje novih kolona u tabelu gde se prikazuje tačan broj objekata po naseljima"
   ]
  },
  {
   "cell_type": "code",
   "execution_count": 76,
   "metadata": {},
   "outputs": [
    {
     "name": "stdout",
     "output_type": "stream",
     "text": [
      "--- Započinjem dodavanje kolone sa nazivom najbližeg mesta ---\n",
      "  - Mapa 'ID Objekta -> Naziv Naselja' je uspešno kreirana.\n",
      "\n",
      "  - Pronađeni lejeri za ažuriranje: []\n",
      "\n",
      "--- AŽURIRANJE JE ZAVRŠENO! ---\n"
     ]
    }
   ],
   "source": [
    "import arcpy\n",
    "\n",
    "print(\"--- Započinjem dodavanje kolone sa nazivom najbližeg mesta ---\")\n",
    "\n",
    "# Kreiranje \"mape\" koja povezuje ID svakog objekta sa imenom naselja\n",
    "\n",
    "naziv_kolone_u_naseljima = \"naselje__1\"\n",
    "\n",
    "# Prvo, spajamo SVE javne objekte sa naseljima da bi svaki objekat \"znao\" u kom se naselju nalazi.\n",
    "objekti_sa_info_naselja = \"Privremeni_Svi_Objekti_Sa_Lokacijom\"\n",
    "arcpy.analysis.SpatialJoin(\"Javni_Objekti_Sombor\", \"Naselja_Sombora\", objekti_sa_info_naselja)\n",
    "\n",
    "# Sada pravimo Python rečnik (dictionary). On je kao telefonski imenik:\n",
    "# pitamo ga za ID objekta (NEAR_FID), a on vrati ime naselja.\n",
    "mapa_id_u_ime_naselja = {}\n",
    "with arcpy.da.SearchCursor(objekti_sa_info_naselja, [\"TARGET_FID\", naziv_kolone_u_naseljima]) as cursor:\n",
    "    for red in cursor:\n",
    "        id_objekta = red[0]\n",
    "        ime_naselja = red[1]\n",
    "        mapa_id_u_ime_naselja[id_objekta] = ime_naselja\n",
    "\n",
    "print(\"  - Mapa 'ID Objekta -> Naziv Naselja' je uspešno kreirana.\")\n",
    "\n",
    "# Brišemo privremeni lejer jer nam više ne treba\n",
    "arcpy.management.Delete(objekti_sa_info_naselja)\n",
    "\n",
    "\n",
    "# Pronalaženje svih \"Naselja_Bez_...\" lejera koje treba ažurirati\n",
    "\n",
    "# Automatski pronalazimo sve rezultate analize u geobazi\n",
    "arcpy.env.workspace = arcpy.mp.ArcGISProject(\"CURRENT\").defaultGeodatabase\n",
    "lista_lejer_za_azuriranje = arcpy.ListFeatureClasses(\"Naselja_Bez_*\")\n",
    "\n",
    "print(f\"\\n  - Pronađeni lejeri za ažuriranje: {lista_lejer_za_azuriranje}\")\n",
    "\n",
    "\n",
    "# Ažuriranje svakog pronađenog lejera\n",
    "\n",
    "for ime_lejera in lista_lejer_za_azuriranje:\n",
    "    print(f\"\\n>>> Ažuriram lejer: '{ime_lejera}'\")\n",
    "    \n",
    "    # Definišemo ime nove kolone (10 karaktera max)\n",
    "    ime_nove_kolone = \"NajblLok\"\n",
    "    \n",
    "    # 1. Dodajemo novu kolonu, ali samo ako već ne postoji\n",
    "    if not arcpy.ListFields(ime_lejera, ime_nove_kolone):\n",
    "        arcpy.management.AddField(ime_lejera, ime_nove_kolone, \"TEXT\", field_length=50)\n",
    "        print(f\"    - Dodata nova kolona: '{ime_nove_kolone}'\")\n",
    "    else:\n",
    "        print(f\"    - Kolona '{ime_nove_kolone}' već postoji, biće samo prepisana.\")\n",
    "\n",
    "    # 2. Popunjavamo novu kolonu\n",
    "    # Prolazimo kroz tabelu red po red\n",
    "    with arcpy.da.UpdateCursor(ime_lejera, [\"NEAR_FID\", ime_nove_kolone]) as cursor:\n",
    "        for red in cursor:\n",
    "            # Uzimamo ID najbližeg objekta iz kolone NEAR_FID\n",
    "            id_najblizeg_objekta = red[0]\n",
    "            \n",
    "            # Pomoću tog ID-a, u našoj \"mapi\" pronalazimo ime naselja\n",
    "            ime_naselja = mapa_id_u_ime_naselja.get(id_najblizeg_objekta, \"Nije pronađeno\")\n",
    "            \n",
    "            # Upisujemo pronađeno ime u našu novu kolonu\n",
    "            red[1] = ime_naselja\n",
    "            cursor.updateRow(red)\n",
    "            \n",
    "    print(f\"    - Kolona '{ime_nove_kolone}' je uspešno popunjena.\")\n",
    "\n",
    "print(\"\\n--- AŽURIRANJE JE ZAVRŠENO! ---\")"
   ]
  },
  {
   "cell_type": "markdown",
   "metadata": {
    "jp-MarkdownHeadingCollapsed": true
   },
   "source": [
    "# DODAVANJE PUTEVA"
   ]
  },
  {
   "cell_type": "code",
   "execution_count": 59,
   "metadata": {},
   "outputs": [
    {
     "name": "stdout",
     "output_type": "stream",
     "text": [
      "  - Korak 1/3: Putna mreža uspešno isečena na teritoriju opštine Sombor.\n",
      "  - Korak 2/3: Tipovi puteva prevedeni na srpski jezik u koloni 'Tip_Puta'.\n",
      "  - Korak 3/3: Izračunata je dužina za svaku deonicu puta u kilometrima.\n",
      "\n",
      "--- Obrada putne mreže je ZAVRŠENA! ---\n"
     ]
    }
   ],
   "source": [
    "# Isecanje (Clip) OSM podataka za puteve \n",
    "\n",
    "putanja_do_osm_puteva = r\"C:\\Users\\LENOVO\\Desktop\\FAKS\\IV GODINA\\NMPOP\\Sombor_objekti\\gisSrbija\\gis_osm_roads_free_1.shp\"\n",
    "\n",
    "# Isecamo puteve prema granicama opštine Sombor\n",
    "arcpy.analysis.Clip(putanja_do_osm_puteva, \"Opstina_Sombor\", \"Putevi_Sombor\")\n",
    "\n",
    "print(\"  - Korak 1/3: Putna mreža uspešno isečena na teritoriju opštine Sombor.\")\n",
    "\n",
    "\n",
    "# Prevođenje tipova puteva na srpski jezik \n",
    "\n",
    "# Dodajemo novo polje \"Tip_Puta\" \n",
    "arcpy.management.AddField(\"Putevi_Sombor\", \"Tip_Puta\", \"TEXT\", field_length=50)\n",
    "\n",
    "# Definišemo funkciju za prevod OSM 'fclass' kodova za puteve\n",
    "kod_za_prevod_puteva = \"\"\"\n",
    "def prevedi_tip_puta(fclass):\n",
    "    mapa_prevoda = {\n",
    "        'motorway': 'Autoput',\n",
    "        'primary': 'Glavni put',\n",
    "        'secondary': 'Regionalni put',\n",
    "        'tertiary': 'Lokalni put',\n",
    "        'residential': 'Ulica (naselje)',\n",
    "        'living_street': 'Stambena ulica',\n",
    "        'unclassified': 'Neklasifikovan put',\n",
    "        'service': 'Servisni put',\n",
    "        'track': 'Poljski/Šumski put',\n",
    "        'path': 'Staza'\n",
    "    }\n",
    "    # .get() će vratiti vrednost ako je nađe, ili 'Ostalo' ako je ne nađe\n",
    "    return mapa_prevoda.get(fclass, 'Ostalo')\n",
    "\"\"\"\n",
    "\n",
    "# Pokrećemo Calculate Field da popunimo novu kolonu\n",
    "arcpy.management.CalculateField(\"Putevi_Sombor\", \"Tip_Puta\", \"prevedi_tip_puta(!fclass!)\", \"PYTHON3\", kod_za_prevod_puteva)\n",
    "\n",
    "print(\"  - Korak 2/3: Tipovi puteva prevedeni na srpski jezik u koloni 'Tip_Puta'.\")\n",
    "\n",
    "\n",
    "# Izračunavanje dužine puteva \n",
    "\n",
    "# Dodajemo novu kolonu za dužinu u kilometrima\n",
    "arcpy.management.AddField(\"Putevi_Sombor\", \"Duzina_KM\", \"DOUBLE\")\n",
    "\n",
    "# Koristimo Calculate Geometry da automatski izračunamo dužinu\n",
    "arcpy.management.CalculateGeometryAttributes(\"Putevi_Sombor\", [[\"Duzina_KM\", \"LENGTH_GEODESIC\"]], \"KILOMETERS\")\n",
    "\n",
    "print(\"  - Korak 3/3: Izračunata je dužina za svaku deonicu puta u kilometrima.\")\n",
    "print(\"\\n--- Obrada putne mreže je ZAVRŠENA! ---\")"
   ]
  },
  {
   "cell_type": "markdown",
   "metadata": {},
   "source": [
    "# SIMBOLOGIJA"
   ]
  },
  {
   "cell_type": "code",
   "execution_count": 2,
   "metadata": {},
   "outputs": [],
   "source": [
    "# Pristupanje trenutnom projektu i mapi/karti\n",
    "aprx = arcpy.mp.ArcGISProject(\"CURRENT\")\n",
    "karta = aprx.activeMap\n"
   ]
  },
  {
   "cell_type": "code",
   "execution_count": 21,
   "metadata": {},
   "outputs": [
    {
     "name": "stdout",
     "output_type": "stream",
     "text": [
      "  - Simbologija za 'Opstina_Sombor' je uspešno podešena.\n"
     ]
    }
   ],
   "source": [
    "# Podešavanje POLIGONSKOG lejera (Simple Renderer / Single Symbol)\n",
    "try:\n",
    "    opstina_lejer = karta.listLayers(\"Opstina_Sombor_Layer\")[0]\n",
    "    simbologija = opstina_lejer.symbology\n",
    "    \n",
    "    if hasattr(simbologija, 'renderer'):\n",
    "        simbol = simbologija.renderer.symbol\n",
    "        \n",
    "        simbol.color = {'RGB': [211, 211, 211, 50]} \n",
    "        \n",
    "        opstina_lejer.symbology = simbologija\n",
    "        print(\"  - Simbologija za 'Opstina_Sombor' je uspešno podešena.\")\n",
    "\n",
    "except IndexError:\n",
    "    print(\"  - UPOZORENJE: Lejer 'Opstina_Sombor_Layer' nije pronađen na mapi.\")"
   ]
  },
  {
   "cell_type": "code",
   "execution_count": 9,
   "metadata": {},
   "outputs": [
    {
     "name": "stdout",
     "output_type": "stream",
     "text": [
      "  - Simbologija za 'Putevi_Sombor' je uspešno podešena.\n"
     ]
    }
   ],
   "source": [
    "# Podešavanje LINIJSKOG lejera (Unique Values Renderer) ---\n",
    "\n",
    "try:\n",
    "    putevi_lejer = karta.listLayers(\"Putevi_Sombor\")[0]\n",
    "    simbologija = putevi_lejer.symbology\n",
    "    \n",
    "    if simbologija.renderer.type == \"UniqueValueRenderer\":\n",
    "        simbologija.renderer.fields = [\"Tip_Puta\"]\n",
    "        \n",
    "        # Prolazimo kroz svaku grupu (svaki tip puta) i menjamo simbol\n",
    "        for grupa in simbologija.renderer.groups:\n",
    "            if grupa.heading[0][0] == 'Glavni put':\n",
    "                grupa.symbol.color = {'RGB': [255, 0, 0, 100]} \n",
    "                grupa.symbol.width = 2\n",
    "            elif grupa.heading[0][0] == 'Regionalni put':\n",
    "                grupa.symbol.color = {'RGB': [255, 165, 0, 100]} \n",
    "                grupa.symbol.width = 1.5\n",
    "            elif grupa.heading[0][0] == 'Lokalni put':\n",
    "                grupa.symbol.color = {'RGB': [80, 80, 80, 100]} \n",
    "                grupa.symbol.width = 1\n",
    "            elif grupa.heading[0][0] == 'Ulica (naselje)':\n",
    "                 grupa.symbol.color = {'RGB': [150, 150, 150, 100]} \n",
    "                 grupa.symbol.width = 0.5\n",
    "          \n",
    "        \n",
    "        putevi_lejer.symbology = simbologija\n",
    "        print(\"  - Simbologija za 'Putevi_Sombor' je uspešno podešena.\")\n",
    "\n",
    "except IndexError:\n",
    "    print(\"  - UPOZORENJE: Lejer 'Putevi_Sombor' nije pronađen na mapi.\")\n"
   ]
  },
  {
   "cell_type": "code",
   "execution_count": 20,
   "metadata": {},
   "outputs": [
    {
     "name": "stdout",
     "output_type": "stream",
     "text": [
      "    -> Podešavam 'Naselja_Bez_Apoteka'\n",
      "    -> Podešavam 'Naselja_Bez_Banka'\n",
      "    -> Podešavam 'Naselja_Bez_Bolnica'\n",
      "    -> Podešavam 'Naselja_Bez_Policija'\n",
      "    -> Podešavam 'Naselja_Bez_Po_ta'\n",
      "    -> Podešavam 'Naselja_Bez__kola'\n",
      "\n",
      "--- Podešavanje simbologije je završeno! ---\n"
     ]
    }
   ],
   "source": [
    "# Podešavanje TAČKASTOG lejera (Graduated Symbols Renderer)\n",
    "# Lejer: Naselja_Bez_Apoteke (kao primer)\n",
    "\n",
    "lista_lejer_za_obradu = karta.listLayers(\"Naselja_Bez_*\")\n",
    "\n",
    "if not lista_lejer_za_obradu:\n",
    "    print(\"  - Nisu pronađeni 'Naselja_Bez_*' lejeri na mapi za podešavanje.\")\n",
    "else:\n",
    "    try:\n",
    "        color_ramp = aprx.listColorRamps('Brown-Green (5 Classes)')[0]\n",
    "        \n",
    "        for lejer in lista_lejer_za_obradu:\n",
    "            print(f\"    -> Podešavam '{lejer.name}'\")\n",
    "            simbologija = lejer.symbology\n",
    "            simbologija.updateRenderer(\"GraduatedColorsRenderer\")\n",
    "            simbologija.renderer.classificationField = \"NEAR_DIST\"\n",
    "            simbologija.renderer.breakCount = 5\n",
    "            simbologija.renderer.colorRamp = color_ramp\n",
    "            lejer.symbology = simbologija\n",
    "            \n",
    "    except IndexError:\n",
    "        print(\"  - !!! GREŠKA: Paleta boja 'Brown-Green (5 Classes)' nije pronađena u stilovima projekta.\")\n",
    "\n",
    "print(\"\\n--- Podešavanje simbologije je završeno! ---\")"
   ]
  },
  {
   "cell_type": "code",
   "execution_count": 24,
   "metadata": {},
   "outputs": [
    {
     "name": "stdout",
     "output_type": "stream",
     "text": [
      "  - Simbologija za 'Objekti_Apoteka' je podešena.\n"
     ]
    }
   ],
   "source": [
    "# 1. Objekti_Apoteka (Crvena boja)\n",
    "try:\n",
    "    lejer = karta.listLayers(\"Objekti_Apoteka\")[0]\n",
    "    simbologija = lejer.symbology\n",
    "    simbol = simbologija.renderer.symbol\n",
    "    simbol.applySymbolFromGallery('Pharmacy')\n",
    "    simbol.color = {'RGB': [255, 0, 0, 100]} # Crvena\n",
    "    \n",
    "    lejer.symbology = simbologija\n",
    "    print(\"  - Simbologija za 'Objekti_Apoteka' je podešena.\")\n",
    "except Exception as e:\n",
    "    print(f\"  - GREŠKA pri obradi 'Objekti_Apoteka': {e}\")"
   ]
  },
  {
   "cell_type": "code",
   "execution_count": 25,
   "metadata": {},
   "outputs": [
    {
     "name": "stdout",
     "output_type": "stream",
     "text": [
      "  - Simbologija za 'Objekti_Banka' je podešena.\n"
     ]
    }
   ],
   "source": [
    "# 2. Objekti_Banka (Zelena boja) \n",
    "try:\n",
    "    lejer = karta.listLayers(\"Objekti_Banka\")[0]\n",
    "    simbologija = lejer.symbology\n",
    "    simbol = simbologija.renderer.symbol\n",
    "    simbol.applySymbolFromGallery('Bank')\n",
    "    simbol.color = {'RGB': [0, 128, 0, 100]} # Tamno zelena\n",
    "    lejer.symbology = simbologija\n",
    "    print(\"  - Simbologija za 'Objekti_Banka' je podešena.\")\n",
    "except Exception as e:\n",
    "    print(f\"  - GREŠKA pri obradi 'Objekti_Banka': {e}\")"
   ]
  },
  {
   "cell_type": "code",
   "execution_count": 32,
   "metadata": {},
   "outputs": [
    {
     "name": "stdout",
     "output_type": "stream",
     "text": [
      "  - Simbologija za 'Objekti_Bolnica' je podešena.\n"
     ]
    }
   ],
   "source": [
    "# 3. Objekti_Bolnica (Plava boja) \n",
    "try:\n",
    "    lejer = karta.listLayers(\"Objekti_Bolnica\")[0]\n",
    "    simbologija = lejer.symbology\n",
    "    simbol = simbologija.renderer.symbol\n",
    "    simbol.applySymbolFromGallery('Hospital')\n",
    "    simbol.color = {'RGB': [0, 0, 255, 100]} # Plava\n",
    "    lejer.symbology = simbologija\n",
    "    print(\"  - Simbologija za 'Objekti_Bolnica' je podešena.\")\n",
    "except Exception as e:\n",
    "    print(f\"  - GREŠKA pri obradi 'Objekti_Bolnica': {e}\")"
   ]
  },
  {
   "cell_type": "code",
   "execution_count": 28,
   "metadata": {},
   "outputs": [
    {
     "name": "stdout",
     "output_type": "stream",
     "text": [
      "  - Simbologija za 'Objekti_Policija' je podešena.\n"
     ]
    }
   ],
   "source": [
    "# 4. Objekti_Policija (Svetlo plava boja)\n",
    "try:\n",
    "    lejer = karta.listLayers(\"Objekti_Policija\")[0]\n",
    "    simbologija = lejer.symbology\n",
    "    simbol = simbologija.renderer.symbol\n",
    "    simbol.applySymbolFromGallery('Police Station')\n",
    "    simbol.color = {'RGB': [0, 112, 255, 100]} # Svetlo plava\n",
    "    lejer.symbology = simbologija\n",
    "    print(\"  - Simbologija za 'Objekti_Policija' je podešena.\")\n",
    "except Exception as e:\n",
    "    print(f\"  - GREŠKA pri obradi 'Objekti_Policija': {e}\")"
   ]
  },
  {
   "cell_type": "code",
   "execution_count": 29,
   "metadata": {},
   "outputs": [
    {
     "name": "stdout",
     "output_type": "stream",
     "text": [
      "  - Simbologija za 'Objekti_Po_ta' je podešena.\n"
     ]
    }
   ],
   "source": [
    "# 5. Objekti_Po_ta (Narandžasta boja) \n",
    "try:\n",
    "    lejer = karta.listLayers(\"Objekti_Po_ta\")[0]\n",
    "    simbologija = lejer.symbology\n",
    "    simbol = simbologija.renderer.symbol\n",
    "    simbol.applySymbolFromGallery('Post Office')\n",
    "    simbol.color = {'RGB': [255, 165, 0, 100]} # Narandžasta\n",
    "    lejer.symbology = simbologija\n",
    "    print(\"  - Simbologija za 'Objekti_Po_ta' je podešena.\")\n",
    "except Exception as e:\n",
    "    print(f\"  - GREŠKA pri obradi 'Objekti_Po_ta': {e}\")"
   ]
  },
  {
   "cell_type": "code",
   "execution_count": 33,
   "metadata": {},
   "outputs": [
    {
     "name": "stdout",
     "output_type": "stream",
     "text": [
      "  - Simbologija za 'Objekti_kola' je podešena.\n",
      "\n",
      "--- Podešavanje simbologije tačkastih objekata je završeno! ---\n"
     ]
    }
   ],
   "source": [
    "# 6. Objekti_kola (Ljubičasta boja)\n",
    "try:\n",
    "    lejer = karta.listLayers(\"Objekti__kola\")[0]\n",
    "    simbologija = lejer.symbology\n",
    "    simbol = simbologija.renderer.symbol\n",
    "    simbol.applySymbolFromGallery('School')\n",
    "    simbol.color = {'RGB': [128, 0, 128, 100]} # Ljubičasta\n",
    "    lejer.symbology = simbologija\n",
    "    print(\"  - Simbologija za 'Objekti_kola' je podešena.\")\n",
    "except Exception as e:\n",
    "    print(f\"  - GREŠKA pri obradi 'Objekti_kola': {e}\")\n",
    "\n",
    "\n",
    "print(\"\\n--- Podešavanje simbologije tačkastih objekata je završeno! ---\")"
   ]
  },
  {
   "cell_type": "code",
   "execution_count": null,
   "metadata": {},
   "outputs": [],
   "source": []
  }
 ],
 "metadata": {
  "kernelspec": {
   "display_name": "ArcGISPro",
   "language": "python",
   "name": "python3"
  },
  "language_info": {
   "file_extension": ".py",
   "mimetype": "text/x-python",
   "name": "python",
   "version": "3.11.10"
  }
 },
 "nbformat": 4,
 "nbformat_minor": 4
}
